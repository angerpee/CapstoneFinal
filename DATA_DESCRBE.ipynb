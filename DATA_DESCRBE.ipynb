{
 "cells": [
  {
   "cell_type": "markdown",
   "metadata": {},
   "source": [
    "# DATA DESCRIPTION"
   ]
  },
  {
   "cell_type": "markdown",
   "metadata": {},
   "source": [
    "To solve this problem, we will access Foursquare API to explore the data of two cities. The databank is very useful because it is comprised of many information about the neighbourhood, like restaurants, hotels, parks, and others. Here we select Manhattan from New York and Downtown Toronto from Toronto. We will apply clustering to segment the neighbourhoods data. These objects aimed at locating tourist’s areas and hubs, consequently to facilitate the comparison about dissimilarity for the choice of visit. "
   ]
  }
 ],
 "metadata": {
  "kernelspec": {
   "display_name": "Python 3",
   "language": "python",
   "name": "python3"
  },
  "language_info": {
   "codemirror_mode": {
    "name": "ipython",
    "version": 3
   },
   "file_extension": ".py",
   "mimetype": "text/x-python",
   "name": "python",
   "nbconvert_exporter": "python",
   "pygments_lexer": "ipython3",
   "version": "3.7.6"
  }
 },
 "nbformat": 4,
 "nbformat_minor": 4
}
