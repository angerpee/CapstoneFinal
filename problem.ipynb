{
 "cells": [
  {
   "cell_type": "markdown",
   "metadata": {},
   "source": [
    "# Problem"
   ]
  },
  {
   "cell_type": "markdown",
   "metadata": {},
   "source": [
    "Tourism is the centre of the economy. When people plan their trip, they will search many information and decide where to visit. Thus there are always some comparison in the mind of every tourist. Here we hope to use a data-mining approach to compare two city, and see which of them can face more customers. \n",
    "Here we will compare the tourist spots between Toronto and New York. We aim to compare them because they are both multicultural but diverse in many ways. We will focus on extracting the location data about restaurant, accommodation and others.  "
   ]
  }
 ],
 "metadata": {
  "kernelspec": {
   "display_name": "Python 3",
   "language": "python",
   "name": "python3"
  },
  "language_info": {
   "codemirror_mode": {
    "name": "ipython",
    "version": 3
   },
   "file_extension": ".py",
   "mimetype": "text/x-python",
   "name": "python",
   "nbconvert_exporter": "python",
   "pygments_lexer": "ipython3",
   "version": "3.7.6"
  }
 },
 "nbformat": 4,
 "nbformat_minor": 4
}
